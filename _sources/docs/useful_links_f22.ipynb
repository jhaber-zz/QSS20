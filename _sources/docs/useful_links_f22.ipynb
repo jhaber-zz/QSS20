{
 "cells": [
  {
   "cell_type": "markdown",
   "id": "3eead740",
   "metadata": {},
   "source": [
    "(useful_links_f22)=\n",
    "\n",
    "# Useful Links (Fall 2022)\n",
    "\n",
    "## Surveys\n",
    "\n",
    "* [Student information form](https://forms.gle/pEpEo6AokiyRgMGG8)\n",
    "* [Final project group preferences form](https://forms.gle/JYkH962LMYbpkXJ17) (due Friday, Sept. 30)\n",
    "* [Problem set 1 feedback form](https://forms.gle/WrZQdyYnGhGkPKs5A) to complete *after* completing pset 1\n",
    "\n",
    "## GitHub and coding resources\n",
    "\n",
    "* [Main course repository with slides & activities](https://github.com/jhaber-zz/QSS20_public)\n",
    "* [Jupyter Hub](https://jhub.dartmouth.edu/)\n",
    "* [Download Anaconda](https://www.anaconda.com/products/distribution)\n",
    "\n",
    "## DataCamp & Piazza\n",
    "\n",
    "* [Join the course DataCamp](https://www.datacamp.com/groups/shared_links/434e7826f38af70536acc1d3bf83fe921babc9c35b966195cf577468505c0473)\n",
    "* [Join the course Piazza](https://piazza.com/dartmouth/fall2022/qss20)"
   ]
  }
 ],
 "metadata": {
  "jupytext": {
   "text_representation": {
    "extension": ".md",
    "format_name": "myst"
   }
  },
  "kernelspec": {
   "display_name": "Python 3",
   "language": "python",
   "name": "python3"
  },
  "source_map": [
   10
  ]
 },
 "nbformat": 4,
 "nbformat_minor": 5
}