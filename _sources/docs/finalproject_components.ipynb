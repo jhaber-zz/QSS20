{
 "cells": [
  {
   "cell_type": "markdown",
   "id": "fe3d34dd",
   "metadata": {},
   "source": [
    "(finalproject_components)=\n",
    "\n",
    "# Project Components\n",
    "\n",
    "## Milestone one\n",
    "\n",
    "Before starting milestone one: \n",
    "- Fill out the final project group form (forthcoming)\n",
    "- Read the [report for one Spring 2021 project](https://github.com/rebeccajohnson88/qss20_s21_proj/tree/main/memos/final_papers) and get a sense for its strengths and weaknesses. What can you learn from their report? What can you improve on?\n",
    "- Copy to your own Overlead account [the milestone 1 template](https://www.overleaf.com/9461636581djcsgynkwkgk) and **only edit your local copy** (please don't change the template!)\n",
    "    - You need to first setup an Overleaf account with your Dartmouth email (free) and log in\n",
    "\n",
    "Then fill in the template sections by exploring your data on possible questions, relevant data fields, and possible changes.\n",
    "\n",
    "Please submit one milestone one memo per group on Canvas **AND** on Overleaf with jhaber@berkeley.edu. These will be graded.\n",
    "\n",
    "\n",
    "## Milestone two\n",
    "\n",
    "Create a private GitHub repository for your team that contains:\n",
    "- An informative README\n",
    "- A `code/` directory for scripts\n",
    "- An `output/` directory for graphs/figures\n",
    "- A link to cloud storage where you keep the data (e.g., Dropbox, Google Drive)\n",
    "\n",
    "Add Dr. Jaren + the TA(s) as collaborators:\n",
    "- Our GitHub usernames: jhaber-zz; eunice30718\n",
    "\n",
    "Then assign us an issue to review some progress on code/analysis.\n",
    "- You do NOT need to be close to finished for this. We just want to see that you’ve loaded the data and started to write some code\n",
    "\n",
    "\n",
    "## Final submission components\n",
    "\n",
    "1. A 15-20 minute final presentation \n",
    "\t- Build your presentation from [this slide template](https://www.overleaf.com/5326326236xjqkschrjhrs) \n",
    "\t\t- **Copy this template to your own Overleaf before editing!**\n",
    "\t- This presentation is meant as an update on work in progress, not a polished, completed product. It will be graded **pass/fail**.\n",
    "\t- You will still have time to work on your paper after the final presentation: The paper is due about a week after the presentations.\n",
    "\n",
    "2. A PNAS-style scientific report written in LaTeX\n",
    "\t- [See here for more details on PNAS guidelines](https://www.pnas.org/authors/submitting-your-manuscript)\n",
    "\t- The specific, single-column PNAS paper template (figures display better in with one column) for you to use [can be found on Overleaf here](https://www.overleaf.com/gallery/tagged/pnas) (you can edit this directly after opening it)\n",
    "    - After you click on the link, select the single-column mathematics article template (second from left, titled *PNAS LaTeX Template for preparing single-column mathematics articles on Overleaf*) and click \"Open as Template\", which will copy over to your own Overleaf account\n",
    "    - To remove the DRAFT watermark, go to the .cls style file and set display watermark to false (there’ll be a small deduction if the watermark remains)\n",
    "    - **Feel free to exceed the 10 pages if it leads to more legible figures.**\n",
    "\n",
    "3. A private GitHub repository containing:\n",
    "\t- Scripts (`.py` and `.ipynb` files) to reproduce your entire analysis, from start to finish \n",
    "\t- An informative README with a project overview, a clear description of your workflow, inputs/outputs of each key script, and where to find output/graphs\n",
    "\n",
    "The final GitHub repo and 10-page report will be evaluated using [this rubric](https://github.com/jhaber-zz/QSS20_public/blob/main/finalproj_guidelines/final_project_rubric.csv)."
   ]
  }
 ],
 "metadata": {
  "jupytext": {
   "text_representation": {
    "extension": ".md",
    "format_name": "myst"
   }
  },
  "kernelspec": {
   "display_name": "Python 3",
   "language": "python",
   "name": "python3"
  },
  "language_info": {
   "codemirror_mode": {
    "name": "ipython",
    "version": 3
   },
   "file_extension": ".py",
   "mimetype": "text/x-python",
   "name": "python",
   "nbconvert_exporter": "python",
   "pygments_lexer": "ipython3",
   "version": "3.8.10"
  },
  "source_map": [
   10
  ]
 },
 "nbformat": 4,
 "nbformat_minor": 5
}