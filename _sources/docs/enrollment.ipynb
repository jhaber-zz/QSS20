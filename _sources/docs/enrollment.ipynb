{
 "cells": [
  {
   "cell_type": "markdown",
   "id": "fabd219b",
   "metadata": {},
   "source": [
    "(enrollment)=\n",
    "\n",
    "# Enrollment and Waitlist\n",
    "\n",
    "For Dartmouth students, you can track the enrollment status using the ORC timetable.\n",
    "\n",
    "The course is capped at 30 students per section to facilitate small group collaboration for the final data science project. Please fill out this Google form (while logged in via your Dartmouth email) if you are interested in joining the waiting list for spots freeing up! [Waitlist form](https://forms.gle/ZDPYa4za4hGx2fCH7)"
   ]
  }
 ],
 "metadata": {
  "jupytext": {
   "text_representation": {
    "extension": ".md",
    "format_name": "myst"
   }
  },
  "kernelspec": {
   "display_name": "Python 3",
   "language": "python",
   "name": "python3"
  },
  "source_map": [
   10
  ]
 },
 "nbformat": 4,
 "nbformat_minor": 5
}