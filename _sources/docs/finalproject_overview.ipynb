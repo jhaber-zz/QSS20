{
 "cells": [
  {
   "cell_type": "markdown",
   "id": "428d9cb7",
   "metadata": {},
   "source": [
    "(finalproject_overview)=\n",
    "\n",
    "# Overview\n",
    "\n",
    "As the cornerstone achievement of this course, the final research project integrates course concepts into an applied data science project. You will select a data source to investigate, begin with broad questions, and focus on narrowing these down to complete and clearly explain a scientific investigation that applies the programming skills we've developed.\n",
    "\n",
    "Your final project will produce three outputs: a status update presentation (on the last day of class), a scientific report (\\~10 pages), and a well-documented GitHub repository. You will also complete two project milestones in the second half of the quarter, for which you'll be assigned into groups of 3-4 students. You'll work from a common repository that you'll be added to, and have push/commit privileges for, when you're set up on GitHub.\n",
    "\n",
    "\n",
    "## Options for working on final projects\n",
    "\n",
    "You will have three options for how you work on the final project, two of which involve forming groups of 3-4 students (we'll ask you about your preferences later). \n",
    "\n",
    "1. Choose your own groups \n",
    "    - Keep in mind complementary skillsets as well as people you like, given how much time you will spend communicating and working together. This project calls for not only people skilled at writing Python code, but also people who excel at doing research, analysis, interpretation, and data visualization. In other words, aim for a diverse team and you will probably find it makes you more productive.\n",
    "2. Opt into group matching (or recruit 1-2 more)\n",
    "    - We will account for your matching preferences and restrictions\n",
    "3. Work alone on a significant, independent project (e.g., Senior Thesis)\n",
    "    - See the Final Project Options page for more info on this option"
   ]
  }
 ],
 "metadata": {
  "jupytext": {
   "text_representation": {
    "extension": ".md",
    "format_name": "myst"
   }
  },
  "kernelspec": {
   "display_name": "Python 3",
   "language": "python",
   "name": "python3"
  },
  "language_info": {
   "codemirror_mode": {
    "name": "ipython",
    "version": 3
   },
   "file_extension": ".py",
   "mimetype": "text/x-python",
   "name": "python",
   "nbconvert_exporter": "python",
   "pygments_lexer": "ipython3",
   "version": "3.8.10"
  },
  "source_map": [
   10
  ]
 },
 "nbformat": 4,
 "nbformat_minor": 5
}