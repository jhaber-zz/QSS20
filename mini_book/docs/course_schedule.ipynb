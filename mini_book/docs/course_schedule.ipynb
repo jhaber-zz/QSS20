{
 "cells": [
  {
   "cell_type": "markdown",
   "metadata": {},
   "source": [
    "# Course Schedule\n",
    "\n",
    "The course will meet on Monday and Wednesday from 3:30 to 5:20 PM EST. \n",
    "\n",
    "Here is the current week-by-week schedule 📅 . We may adjust as we go along. \n",
    "\n",
    "To get started, let's create the course schedule using the pandas module in Python. **Click \"show\" to see the underlying code!**"
   ]
  },
  {
   "cell_type": "code",
   "execution_count": 1,
   "metadata": {
    "tags": [
     "hide_input"
    ]
   },
   "outputs": [
    {
     "data": {
      "text/plain": [
       "0        Monday 09-12\n",
       "1     Wednesday 09-14\n",
       "2        Monday 09-19\n",
       "3     Wednesday 09-21\n",
       "4        Monday 09-26\n",
       "5     Wednesday 09-28\n",
       "6        Monday 10-03\n",
       "7     Wednesday 10-05\n",
       "8        Monday 10-10\n",
       "9     Wednesday 10-12\n",
       "10       Monday 10-17\n",
       "11    Wednesday 10-19\n",
       "12       Monday 10-24\n",
       "13    Wednesday 10-26\n",
       "14       Monday 10-31\n",
       "15    Wednesday 11-02\n",
       "16       Monday 11-07\n",
       "17    Wednesday 11-09\n",
       "18       Monday 11-14\n",
       "Name: day_date, dtype: object"
      ]
     },
     "metadata": {},
     "output_type": "display_data"
    }
   ],
   "source": [
    "# import modules\n",
    "import pandas as pd\n",
    "import re\n",
    "import numpy as np\n",
    "\n",
    "\n",
    "# tell python to display output and print multiple objects\n",
    "from IPython.display import display, HTML\n",
    "from IPython.core.interactiveshell import InteractiveShell\n",
    "InteractiveShell.ast_node_interactivity = \"all\"\n",
    "\n",
    "# create range b/t start and end date of course\n",
    "start_date = pd.to_datetime(\"2022-09-12\")\n",
    "end_date = pd.to_datetime(\"2022-11-15\")\n",
    "st_alldates = pd.date_range(start_date, end_date)\n",
    "\n",
    "# subset to days in that range equal to Monday or Wednesday\n",
    "st_mw = st_alldates[st_alldates.day_name().isin(['Monday', 'Wednesday'])]\n",
    "\n",
    "# create DataFrame with that information\n",
    "st_dates = [re.sub(\"2022\\\\-\", \"\", str(day.date())) for day in st_mw] \n",
    "course_sched = pd.DataFrame({'dow': st_mw.day_name(),\n",
    "                             'date': st_dates})\n",
    "course_sched['day_date'] = course_sched.dow.astype(str) + \" \" + \\\n",
    "            course_sched.date.astype(str) \n",
    "\n",
    "# display the resulting date sequence\n",
    "display(course_sched.day_date)"
   ]
  },
  {
   "cell_type": "markdown",
   "metadata": {},
   "source": [
    "The next few blocks of code creates the actual schedule content by joining the above list of dates with course concepts. "
   ]
  },
  {
   "cell_type": "code",
   "execution_count": 2,
   "metadata": {
    "tags": [
     "hide_input"
    ]
   },
   "outputs": [
    {
     "name": "stdout",
     "output_type": "stream",
     "text": [
      "               Date                                 Concepts\n",
      "0      Monday 09-12           Course intro. & software setup\n",
      "1   Wednesday 09-14       Pandas: aggregation, joins, lambda\n",
      "2      Monday 09-19  Pandas wrap-up & user-defined functions\n",
      "3   Wednesday 09-21   Workflow basics: command line & Github\n",
      "4      Monday 09-26                        Catchup and LaTeX\n",
      "5   Wednesday 09-28                  Introduction to merging\n",
      "6      Monday 10-03              Regular expressions (Regex)\n",
      "7   Wednesday 10-05                   Probabilistic matching\n",
      "8      Monday 10-10                   Text as data: part one\n",
      "9   Wednesday 10-12                   Text as data: part two\n",
      "10     Monday 10-17             APIs: part one (NAEP & Yelp)\n",
      "11  Wednesday 10-19                 APIs: part two (Twitter)\n",
      "12     Monday 10-24      Supervised machine learning: part 1\n",
      "13  Wednesday 10-26      Supervised machine learning: part 2\n",
      "14     Monday 10-31                   Web-scraping: part one\n",
      "15  Wednesday 11-02          Web-scraping: part two (Scrapy)\n",
      "16     Monday 11-07                                      SQL\n",
      "17  Wednesday 11-09               Final project work session\n",
      "18     Monday 11-14                      Final presentations\n"
     ]
    }
   ],
   "source": [
    "# create basic schedule content\n",
    "\n",
    "# list of concepts\n",
    "concepts = [\"Course intro. & software setup\",\n",
    "            \"Pandas: aggregation, joins, lambda\",\n",
    "            \"Pandas wrap-up & user-defined functions\",\n",
    "            \"Workflow basics: command line & Github\",\n",
    "            \"Catchup and LaTeX\",\n",
    "            \"Introduction to merging\",\n",
    "            \"Regular expressions (Regex)\",\n",
    "            \"Probabilistic matching\",\n",
    "            \"Text as data: part one\",\n",
    "            \"Text as data: part two\",\n",
    "            \"APIs: part one (NAEP & Yelp)\",\n",
    "            \"APIs: part two (Twitter)\",\n",
    "            \"Supervised machine learning: part 1\",\n",
    "            \"Supervised machine learning: part 2\",\n",
    "            \"Web-scraping: part one\",\n",
    "            \"Web-scraping: part two (Scrapy)\",\n",
    "            \"SQL\",\n",
    "            \"Final project work session\",\n",
    "            \"Final presentations\"]\n",
    "\n",
    "# check that concepts match number of weeks\n",
    "assert len(course_sched.day_date) == len(concepts)\n",
    "\n",
    "# combine dates with concepts\n",
    "course_sched_concepts = pd.DataFrame({'Date': course_sched.day_date,\n",
    "                                     'Concepts': concepts})\n",
    "\n",
    "df = course_sched_concepts.copy()\n",
    "\n",
    "print(df)"
   ]
  },
  {
   "cell_type": "code",
   "execution_count": 3,
   "metadata": {
    "tags": [
     "hide_input"
    ]
   },
   "outputs": [
    {
     "data": {
      "text/plain": [
       "'\\n**Optional DataCamp courses & chapters for further learning:**\\n\\n- Intermediate python: loops\\n- Python data science toolbox (Part 1)\\n- Object-Oriented Programming in Python: OOP Fundamentals\\n- Regular expressions in Python (first three chapters)\\n- Introduction to natural language processing in Python\\n- Introduction to databases in Python\\n- Intermediate importing data in python\\n- Intermediate SQL queries\\n- Web scraping in python\\n- Introduction to data visualization with MatPlotLib\\n- Introduction to data visualization with ggplot2\\n'"
      ]
     },
     "execution_count": 3,
     "metadata": {},
     "output_type": "execute_result"
    }
   ],
   "source": [
    "# add DataCamp modules to schedule, matching to concepts conditionally\n",
    "match_col = \"Concepts\" # concepts column to match on\n",
    "\n",
    "tomatch = [df[match_col] == \"Pandas wrap-up & user-defined functions\",\n",
    "           df[match_col] == \"Workflow basics: command line & Github\",\n",
    "           df[match_col] == \"Introduction to merging\",\n",
    "           df[match_col] == \"Probabilistic matching\",\n",
    "           df[match_col] == \"Supervised machine learning: part 1\"]\n",
    "\n",
    "# define DataCamp modules\n",
    "modules = [\"Data Manipulation with pandas (course)\",\n",
    "           \"Manipulating files and directories (ch. in Intro to Shell)\",\n",
    "           \"Joining Data with pandas (chs. 1-2)\",\n",
    "           \"Regular Expressions for Pattern Matching (chapter)\",\n",
    "           \"Supervised Learning with scikit-learn (course)\"]\n",
    "\n",
    "'''\n",
    "**Optional DataCamp courses & chapters for further learning:**\n",
    "\n",
    "- Intermediate python: loops\n",
    "- Python data science toolbox (Part 1)\n",
    "- Object-Oriented Programming in Python: OOP Fundamentals\n",
    "- Regular expressions in Python (first three chapters)\n",
    "- Introduction to natural language processing in Python\n",
    "- Introduction to databases in Python\n",
    "- Intermediate importing data in python\n",
    "- Intermediate SQL queries\n",
    "- Web scraping in python\n",
    "- Introduction to data visualization with MatPlotLib\n",
    "- Introduction to data visualization with ggplot2\n",
    "'''\n",
    "\n",
    "df[\"DataCamp module(s) (if any)\"] = np.select(tomatch, \n",
    "                                              modules, \n",
    "                                              default = \"\")"
   ]
  },
  {
   "cell_type": "code",
   "execution_count": 4,
   "metadata": {
    "tags": [
     "hide_input"
    ]
   },
   "outputs": [],
   "source": [
    "# add assignments to schedule, matching to dates/concepts conditionally\n",
    "date_col = \"Date\" # date column to match on\n",
    "\n",
    "due_dates = [df[date_col] == \"Wednesday 09-21\",\n",
    "             df[date_col] == \"Wednesday 10-05\",\n",
    "             df[date_col] == \"Wednesday 10-19\",\n",
    "             df[date_col] == \"Wednesday 11-02\",\n",
    "             df[date_col] == \"Monday 11-14\"]\n",
    "\n",
    "# define assignments\n",
    "assignments = [\"Problem set one (due Sunday 09-25)\",\n",
    "               \"Problem set two (due Sunday 10-09)\",\n",
    "               \"Final project milestone 1 (due Friday 10-21);<br>Problem set three (due Sunday 10-23)\",\n",
    "               \"Problem set four (due Friday 11-04);<br>Final project milestone 2 (due Sunday 11-06) \",\n",
    "               \"Problem set five (due Friday 11-18);<br>Final project presentation (paper due Tuesday 11-22)\"]\n",
    "\n",
    "df[\"Due (11:59 PM EST unless otherwise specified)\"] = np.select(due_dates,\n",
    "                                                                assignments,\n",
    "                                                                default = \"\")"
   ]
  },
  {
   "cell_type": "code",
   "execution_count": 5,
   "metadata": {},
   "outputs": [
    {
     "data": {
      "text/html": [
       "<table border=\"1\" class=\"dataframe\">\n",
       "  <thead>\n",
       "    <tr style=\"text-align: right;\">\n",
       "      <th>Date</th>\n",
       "      <th>Concepts</th>\n",
       "      <th>DataCamp module(s) (if any)</th>\n",
       "      <th>Due (11:59 PM EST unless otherwise specified)</th>\n",
       "    </tr>\n",
       "  </thead>\n",
       "  <tbody>\n",
       "    <tr>\n",
       "      <td>Monday 09-12</td>\n",
       "      <td>Course intro. & software setup</td>\n",
       "      <td></td>\n",
       "      <td></td>\n",
       "    </tr>\n",
       "    <tr>\n",
       "      <td>Wednesday 09-14</td>\n",
       "      <td>Pandas: aggregation, joins, lambda</td>\n",
       "      <td></td>\n",
       "      <td></td>\n",
       "    </tr>\n",
       "    <tr>\n",
       "      <td>Monday 09-19</td>\n",
       "      <td>Pandas wrap-up & user-defined functions</td>\n",
       "      <td>Data Manipulation with pandas (course)</td>\n",
       "      <td></td>\n",
       "    </tr>\n",
       "    <tr>\n",
       "      <td>Wednesday 09-21</td>\n",
       "      <td>Workflow basics: command line & Github</td>\n",
       "      <td>Manipulating files and directories (ch. in Intro to Shell)</td>\n",
       "      <td>Problem set one (due Sunday 09-25)</td>\n",
       "    </tr>\n",
       "    <tr>\n",
       "      <td>Monday 09-26</td>\n",
       "      <td>Catchup and LaTeX</td>\n",
       "      <td></td>\n",
       "      <td></td>\n",
       "    </tr>\n",
       "    <tr>\n",
       "      <td>Wednesday 09-28</td>\n",
       "      <td>Introduction to merging</td>\n",
       "      <td>Joining Data with pandas (chs. 1-2)</td>\n",
       "      <td></td>\n",
       "    </tr>\n",
       "    <tr>\n",
       "      <td>Monday 10-03</td>\n",
       "      <td>Regular expressions (Regex)</td>\n",
       "      <td></td>\n",
       "      <td></td>\n",
       "    </tr>\n",
       "    <tr>\n",
       "      <td>Wednesday 10-05</td>\n",
       "      <td>Probabilistic matching</td>\n",
       "      <td>Regular Expressions for Pattern Matching (chapter)</td>\n",
       "      <td>Problem set two (due Sunday 10-09)</td>\n",
       "    </tr>\n",
       "    <tr>\n",
       "      <td>Monday 10-10</td>\n",
       "      <td>Text as data: part one</td>\n",
       "      <td></td>\n",
       "      <td></td>\n",
       "    </tr>\n",
       "    <tr>\n",
       "      <td>Wednesday 10-12</td>\n",
       "      <td>Text as data: part two</td>\n",
       "      <td></td>\n",
       "      <td></td>\n",
       "    </tr>\n",
       "    <tr>\n",
       "      <td>Monday 10-17</td>\n",
       "      <td>APIs: part one (NAEP & Yelp)</td>\n",
       "      <td></td>\n",
       "      <td></td>\n",
       "    </tr>\n",
       "    <tr>\n",
       "      <td>Wednesday 10-19</td>\n",
       "      <td>APIs: part two (Twitter)</td>\n",
       "      <td></td>\n",
       "      <td>Final project milestone 1 (due Friday 10-21);<br>Problem set three (due Sunday 10-23)</td>\n",
       "    </tr>\n",
       "    <tr>\n",
       "      <td>Monday 10-24</td>\n",
       "      <td>Supervised machine learning: part 1</td>\n",
       "      <td>Supervised Learning with scikit-learn (course)</td>\n",
       "      <td></td>\n",
       "    </tr>\n",
       "    <tr>\n",
       "      <td>Wednesday 10-26</td>\n",
       "      <td>Supervised machine learning: part 2</td>\n",
       "      <td></td>\n",
       "      <td></td>\n",
       "    </tr>\n",
       "    <tr>\n",
       "      <td>Monday 10-31</td>\n",
       "      <td>Web-scraping: part one</td>\n",
       "      <td></td>\n",
       "      <td></td>\n",
       "    </tr>\n",
       "    <tr>\n",
       "      <td>Wednesday 11-02</td>\n",
       "      <td>Web-scraping: part two (Scrapy)</td>\n",
       "      <td></td>\n",
       "      <td>Problem set four (due Friday 11-04);<br>Final project milestone 2 (due Sunday 11-06)</td>\n",
       "    </tr>\n",
       "    <tr>\n",
       "      <td>Monday 11-07</td>\n",
       "      <td>SQL</td>\n",
       "      <td></td>\n",
       "      <td></td>\n",
       "    </tr>\n",
       "    <tr>\n",
       "      <td>Wednesday 11-09</td>\n",
       "      <td>Final project work session</td>\n",
       "      <td></td>\n",
       "      <td></td>\n",
       "    </tr>\n",
       "    <tr>\n",
       "      <td>Monday 11-14</td>\n",
       "      <td>Final presentations</td>\n",
       "      <td></td>\n",
       "      <td>Problem set five (due Friday 11-18);<br>Final project presentation (paper due Tuesday 11-22)</td>\n",
       "    </tr>\n",
       "  </tbody>\n",
       "</table>"
      ],
      "text/plain": [
       "<IPython.core.display.HTML object>"
      ]
     },
     "execution_count": 5,
     "metadata": {},
     "output_type": "execute_result"
    }
   ],
   "source": [
    "HTML(df.to_html(index=False, escape = False))"
   ]
  }
 ],
 "metadata": {
  "celltoolbar": "Tags",
  "kernelspec": {
   "display_name": "Python 3",
   "language": "python",
   "name": "python3"
  },
  "language_info": {
   "codemirror_mode": {
    "name": "ipython",
    "version": 3
   },
   "file_extension": ".py",
   "mimetype": "text/x-python",
   "name": "python",
   "nbconvert_exporter": "python",
   "pygments_lexer": "ipython3",
   "version": "3.8.10"
  }
 },
 "nbformat": 4,
 "nbformat_minor": 4
}
