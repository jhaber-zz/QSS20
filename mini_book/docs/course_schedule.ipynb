{
 "cells": [
  {
   "cell_type": "markdown",
   "metadata": {},
   "source": [
    "# Course schedule\n",
    "\n",
    "Here is the current week-by-week schedule 📅 . We may adjust as we go along. To get started, we're going to create the calendar of weeks for the course programmatically rather than manually!\n",
    "\n",
    "The course will meet on Monday and Wednesday from 3:30 to 5:20 PM EST. "
   ]
  },
  {
   "cell_type": "code",
   "execution_count": 1,
   "metadata": {},
   "outputs": [
    {
     "data": {
      "text/plain": [
       "0        Monday 09-12\n",
       "1     Wednesday 09-14\n",
       "2        Monday 09-19\n",
       "3     Wednesday 09-21\n",
       "4        Monday 09-26\n",
       "5     Wednesday 09-28\n",
       "6        Monday 10-03\n",
       "7     Wednesday 10-05\n",
       "8        Monday 10-10\n",
       "9     Wednesday 10-12\n",
       "10       Monday 10-17\n",
       "11    Wednesday 10-19\n",
       "12       Monday 10-24\n",
       "13    Wednesday 10-26\n",
       "14       Monday 10-31\n",
       "15    Wednesday 11-02\n",
       "16       Monday 11-07\n",
       "17    Wednesday 11-09\n",
       "18       Monday 11-14\n",
       "Name: day_date, dtype: object"
      ]
     },
     "metadata": {},
     "output_type": "display_data"
    }
   ],
   "source": [
    "# import modules\n",
    "import pandas as pd\n",
    "import re\n",
    "import numpy as np\n",
    "\n",
    "\n",
    "# tell python to display output and print multiple objects\n",
    "from IPython.display import display, HTML\n",
    "from IPython.core.interactiveshell import InteractiveShell\n",
    "InteractiveShell.ast_node_interactivity = \"all\"\n",
    "\n",
    "# create range b/t start and end date of course\n",
    "start_date = pd.to_datetime(\"2022-09-12\")\n",
    "end_date = pd.to_datetime(\"2022-11-15\")\n",
    "st_alldates = pd.date_range(start_date, end_date)\n",
    "\n",
    "# subset to days in that range equal to Monday or Wednesday\n",
    "st_mw = st_alldates[st_alldates.day_name().isin(['Monday', 'Wednesday'])]\n",
    "\n",
    "# create DataFrame with that information\n",
    "st_dates = [re.sub(\"2022\\\\-\", \"\", str(day.date())) for day in st_mw] \n",
    "course_sched = pd.DataFrame({'dow': st_mw.day_name(),\n",
    "                             'date': st_dates})\n",
    "course_sched['day_date'] = course_sched.dow.astype(str) + \" \" + \\\n",
    "            course_sched.date.astype(str) \n",
    "\n",
    "# display the resulting date sequence\n",
    "display(course_sched.day_date)"
   ]
  },
  {
   "cell_type": "markdown",
   "metadata": {},
   "source": [
    "The next few blocks of code creates the actual schedule content by joining the above list of dates with course concepts. \n",
    "\n",
    "**Click \"show\" to see the underlying code!**"
   ]
  },
  {
   "cell_type": "code",
   "execution_count": 2,
   "metadata": {
    "tags": [
     "hide_input"
    ]
   },
   "outputs": [
    {
     "name": "stdout",
     "output_type": "stream",
     "text": [
      "               Date                                           Concepts\n",
      "0      Monday 09-12          Course intro. and checking software setup\n",
      "1   Wednesday 09-14  Pandas: aggregation, joins, lambda, user-defin...\n",
      "2      Monday 09-19                                        More Pandas\n",
      "3   Wednesday 09-21  Workflow basics: command line, JupyterHub, Git...\n",
      "4      Monday 09-26                            Introduction to merging\n",
      "5   Wednesday 09-28                        Regular expressions (Regex)\n",
      "6      Monday 10-03                             Probabilistic matching\n",
      "7   Wednesday 10-05                             Text as data: part one\n",
      "8      Monday 10-10                             Text as data: part two\n",
      "9   Wednesday 10-12                          Catchup/more text as data\n",
      "10     Monday 10-17                                               APIs\n",
      "11  Wednesday 10-19                                More APIs (Twitter)\n",
      "12     Monday 10-24                Supervised machine learning: part 1\n",
      "13  Wednesday 10-26                Supervised machine learning: part 2\n",
      "14     Monday 10-31                                                SQL\n",
      "15  Wednesday 11-02                                       Web-scraping\n",
      "16     Monday 11-07                          Catchup/more web-scraping\n",
      "17  Wednesday 11-09                         Final project work session\n",
      "18     Monday 11-14                                Final presentations\n"
     ]
    }
   ],
   "source": [
    "# create basic schedule content\n",
    "\n",
    "# list of concepts\n",
    "concepts = [\"Course intro. and checking software setup\",\n",
    "            \"Pandas: aggregation, joins, lambda, user-defined functions\",\n",
    "            \"More Pandas\",\n",
    "            \"Workflow basics: command line, JupyterHub, Github workflow\",\n",
    "            \"Introduction to merging\",\n",
    "            \"Regular expressions (Regex)\",\n",
    "            \"Probabilistic matching\",\n",
    "            \"Text as data: part one\",\n",
    "            \"Text as data: part two\",\n",
    "            \"Catchup/more text as data\",\n",
    "            \"APIs\",\n",
    "            \"More APIs (Twitter)\",\n",
    "            \"Supervised machine learning: part 1\",\n",
    "            \"Supervised machine learning: part 2\",\n",
    "            \"SQL\",\n",
    "            \"Web-scraping\",\n",
    "            \"Catchup/more web-scraping\",\n",
    "            \"Final project work session\",\n",
    "            \"Final presentations\"]\n",
    "\n",
    "# check that concepts match number of weeks\n",
    "assert len(course_sched.day_date) == len(concepts)\n",
    "\n",
    "# combine dates with concepts\n",
    "course_sched_concepts = pd.DataFrame({'Date': course_sched.day_date,\n",
    "                                     'Concepts': concepts})\n",
    "\n",
    "df = course_sched_concepts.copy()\n",
    "\n",
    "print(df)"
   ]
  },
  {
   "cell_type": "code",
   "execution_count": 3,
   "metadata": {
    "tags": [
     "hide_input"
    ]
   },
   "outputs": [
    {
     "data": {
      "text/plain": [
       "'\\n**Optional DataCamp modules for further learning:**\\n\\n- Python: basics, lists, writing your own functions\\n- Intermediate python for data science (loops)\\n- Object-oriented programming (OOP) basics\\n- Regular expressions in Python (first three modules)\\n- Merging tables with different join types\\n- Python data science toolbox (Part one): user-written functions, default args, lambda functions and error handling\\n- Natural language processing fundamentals in Python\\n- Introduction to databases in Python\\n- Importing JSON data and working with APIs\\n- Python: reading data from APIs and basic web scraping\\n- Importing data from the internet\\n- Python basic data wrangling: data structures (vectors; lists; dataframes; matrices), control flow, and loops\\n- Python basic data wrangling: basic regular expressions and text mining\\n- Python basic data wrangling: combining data (row binds, column binds, joins); aggregation\\n- Python: text data using nltk and gensim\\n- Intermediate SQL\\n- SQL: reading data from a database and basic SQL (postgres) syntax\\n- SQL: more advanced SQL syntax (subqueries; window functions)\\n- Introduction to data visualization with MatPlotLib\\n- Introduction to data visualization with ggplot2\\n'"
      ]
     },
     "execution_count": 3,
     "metadata": {},
     "output_type": "execute_result"
    }
   ],
   "source": [
    "# add DataCamp modules to schedule, matching to concepts conditionally\n",
    "match_col = \"Concepts\" # concepts column to match on\n",
    "\n",
    "tomatch = [df[match_col] == \"Pandas: aggregation, joins, lambda, user-defined functions\",\n",
    "           df[match_col] == \"Introduction to merging\",\n",
    "           df[match_col] == \"Probabilistic matching\",\n",
    "           df[match_col] == \"Supervised machine learning: part 1\"]\n",
    "\n",
    "# define DataCamp modules\n",
    "modules = [\"Data Manipulation with Pandas\",\n",
    "           \"Joining Data with pandas\",\n",
    "           \"Regular Expressions for Pattern Matching\",\n",
    "           \"Supervised Learning with scikit-learn\"]\n",
    "\n",
    "'''\n",
    "**Optional DataCamp modules for further learning:**\n",
    "\n",
    "- Python: basics, lists, writing your own functions\n",
    "- Intermediate python for data science (loops)\n",
    "- Object-oriented programming (OOP) basics\n",
    "- Regular expressions in Python (first three modules)\n",
    "- Merging tables with different join types\n",
    "- Python data science toolbox (Part one): user-written functions, default args, lambda functions and error handling\n",
    "- Natural language processing fundamentals in Python\n",
    "- Introduction to databases in Python\n",
    "- Importing JSON data and working with APIs\n",
    "- Python: reading data from APIs and basic web scraping\n",
    "- Importing data from the internet\n",
    "- Python basic data wrangling: data structures (vectors; lists; dataframes; matrices), control flow, and loops\n",
    "- Python basic data wrangling: basic regular expressions and text mining\n",
    "- Python basic data wrangling: combining data (row binds, column binds, joins); aggregation\n",
    "- Python: text data using nltk and gensim\n",
    "- Intermediate SQL\n",
    "- SQL: reading data from a database and basic SQL (postgres) syntax\n",
    "- SQL: more advanced SQL syntax (subqueries; window functions)\n",
    "- Introduction to data visualization with MatPlotLib\n",
    "- Introduction to data visualization with ggplot2\n",
    "'''\n",
    "\n",
    "df[\"DataCamp module(s) (if any)\"] = np.select(tomatch, \n",
    "                                              modules, \n",
    "                                              default = \"\")"
   ]
  },
  {
   "cell_type": "code",
   "execution_count": 4,
   "metadata": {
    "tags": [
     "hide_input"
    ]
   },
   "outputs": [],
   "source": [
    "# add assignments to schedule, matching to dates/concepts conditionally\n",
    "date_col = \"Date\" # date column to match on\n",
    "\n",
    "due_dates = [df[date_col] == \"Wednesday 09-21\",\n",
    "             df[date_col] == \"Wednesday 10-05\",\n",
    "             df[date_col] == \"Wednesday 10-19\",\n",
    "             df[date_col] == \"Wednesday 11-02\",\n",
    "             df[date_col] == \"Monday 11-14\"]\n",
    "\n",
    "# define assignments\n",
    "assignments = [\"Problem set one (due Sunday 09-25)\",\n",
    "               \"Problem set two (due Sunday 10-09)\",\n",
    "               \"Final project milestone 1 (due Friday 10-21);<br>Problem set three (due Sunday 10-23)\",\n",
    "               \"Problem set four (due Friday 11-04);<br>Final project milestone 2 (due Sunday 11-06) \",\n",
    "               \"Problem set five (due Friday 11-18);<br>Final project presentation (paper due Monday 11-21)\"]\n",
    "\n",
    "df[\"Due (11:59 PM EST unless otherwise specified)\"] = np.select(due_dates,\n",
    "                                                                assignments,\n",
    "                                                                default = \"\")"
   ]
  },
  {
   "cell_type": "code",
   "execution_count": 5,
   "metadata": {},
   "outputs": [
    {
     "data": {
      "text/html": [
       "<table border=\"1\" class=\"dataframe\">\n",
       "  <thead>\n",
       "    <tr style=\"text-align: right;\">\n",
       "      <th>Date</th>\n",
       "      <th>Concepts</th>\n",
       "      <th>DataCamp module(s) (if any)</th>\n",
       "      <th>Due (11:59 PM EST unless otherwise specified)</th>\n",
       "    </tr>\n",
       "  </thead>\n",
       "  <tbody>\n",
       "    <tr>\n",
       "      <td>Monday 09-12</td>\n",
       "      <td>Course intro. and checking software setup</td>\n",
       "      <td></td>\n",
       "      <td></td>\n",
       "    </tr>\n",
       "    <tr>\n",
       "      <td>Wednesday 09-14</td>\n",
       "      <td>Pandas: aggregation, joins, lambda, user-defined functions</td>\n",
       "      <td>Data Manipulation with Pandas</td>\n",
       "      <td></td>\n",
       "    </tr>\n",
       "    <tr>\n",
       "      <td>Monday 09-19</td>\n",
       "      <td>More Pandas</td>\n",
       "      <td></td>\n",
       "      <td></td>\n",
       "    </tr>\n",
       "    <tr>\n",
       "      <td>Wednesday 09-21</td>\n",
       "      <td>Workflow basics: command line, JupyterHub, Github workflow</td>\n",
       "      <td></td>\n",
       "      <td>Problem set one (due Sunday 09-25)</td>\n",
       "    </tr>\n",
       "    <tr>\n",
       "      <td>Monday 09-26</td>\n",
       "      <td>Introduction to merging</td>\n",
       "      <td>Joining Data with pandas</td>\n",
       "      <td></td>\n",
       "    </tr>\n",
       "    <tr>\n",
       "      <td>Wednesday 09-28</td>\n",
       "      <td>Regular expressions (Regex)</td>\n",
       "      <td></td>\n",
       "      <td></td>\n",
       "    </tr>\n",
       "    <tr>\n",
       "      <td>Monday 10-03</td>\n",
       "      <td>Probabilistic matching</td>\n",
       "      <td>Regular Expressions for Pattern Matching</td>\n",
       "      <td></td>\n",
       "    </tr>\n",
       "    <tr>\n",
       "      <td>Wednesday 10-05</td>\n",
       "      <td>Text as data: part one</td>\n",
       "      <td></td>\n",
       "      <td>Problem set two (due Sunday 10-09)</td>\n",
       "    </tr>\n",
       "    <tr>\n",
       "      <td>Monday 10-10</td>\n",
       "      <td>Text as data: part two</td>\n",
       "      <td></td>\n",
       "      <td></td>\n",
       "    </tr>\n",
       "    <tr>\n",
       "      <td>Wednesday 10-12</td>\n",
       "      <td>Catchup/more text as data</td>\n",
       "      <td></td>\n",
       "      <td></td>\n",
       "    </tr>\n",
       "    <tr>\n",
       "      <td>Monday 10-17</td>\n",
       "      <td>APIs</td>\n",
       "      <td></td>\n",
       "      <td></td>\n",
       "    </tr>\n",
       "    <tr>\n",
       "      <td>Wednesday 10-19</td>\n",
       "      <td>More APIs (Twitter)</td>\n",
       "      <td></td>\n",
       "      <td>Final project milestone 1 (due Friday 10-21);<br>Problem set three (due Sunday 10-23)</td>\n",
       "    </tr>\n",
       "    <tr>\n",
       "      <td>Monday 10-24</td>\n",
       "      <td>Supervised machine learning: part 1</td>\n",
       "      <td>Supervised Learning with scikit-learn</td>\n",
       "      <td></td>\n",
       "    </tr>\n",
       "    <tr>\n",
       "      <td>Wednesday 10-26</td>\n",
       "      <td>Supervised machine learning: part 2</td>\n",
       "      <td></td>\n",
       "      <td></td>\n",
       "    </tr>\n",
       "    <tr>\n",
       "      <td>Monday 10-31</td>\n",
       "      <td>SQL</td>\n",
       "      <td></td>\n",
       "      <td></td>\n",
       "    </tr>\n",
       "    <tr>\n",
       "      <td>Wednesday 11-02</td>\n",
       "      <td>Web-scraping</td>\n",
       "      <td></td>\n",
       "      <td>Problem set four (due Friday 11-04);<br>Final project milestone 2 (due Sunday 11-06)</td>\n",
       "    </tr>\n",
       "    <tr>\n",
       "      <td>Monday 11-07</td>\n",
       "      <td>Catchup/more web-scraping</td>\n",
       "      <td></td>\n",
       "      <td></td>\n",
       "    </tr>\n",
       "    <tr>\n",
       "      <td>Wednesday 11-09</td>\n",
       "      <td>Final project work session</td>\n",
       "      <td></td>\n",
       "      <td></td>\n",
       "    </tr>\n",
       "    <tr>\n",
       "      <td>Monday 11-14</td>\n",
       "      <td>Final presentations</td>\n",
       "      <td></td>\n",
       "      <td>Problem set five (due Friday 11-18);<br>Final project presentation (paper due Monday 11-21)</td>\n",
       "    </tr>\n",
       "  </tbody>\n",
       "</table>"
      ],
      "text/plain": [
       "<IPython.core.display.HTML object>"
      ]
     },
     "execution_count": 5,
     "metadata": {},
     "output_type": "execute_result"
    }
   ],
   "source": [
    "HTML(df.to_html(index=False, escape = False))"
   ]
  }
 ],
 "metadata": {
  "celltoolbar": "Tags",
  "kernelspec": {
   "display_name": "Python 3",
   "language": "python",
   "name": "python3"
  },
  "language_info": {
   "codemirror_mode": {
    "name": "ipython",
    "version": 3
   },
   "file_extension": ".py",
   "mimetype": "text/x-python",
   "name": "python",
   "nbconvert_exporter": "python",
   "pygments_lexer": "ipython3",
   "version": "3.8.10"
  }
 },
 "nbformat": 4,
 "nbformat_minor": 4
}
