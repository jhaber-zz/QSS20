{
 "cells": [
  {
   "cell_type": "markdown",
   "metadata": {},
   "source": [
    "# Evaluation and grading\n",
    "\n",
    "## Summary and grading policy\n",
    "\n",
    "You will have four cumulative late days for assignments, that can be apportioned as you see fit between the different problem sets. Late days cannot be used for the final project or final presentation. If you run over and have not submitted a problem set by the following class, I ask that you not attend class as not to see the answers. There will be a deduction of 10 percentage points for each late day after you have used your allowed late days.\n",
    "\n",
    "Grades may be curved if there are no students receiving A's on the non-curved grading scale. "
   ]
  },
  {
   "cell_type": "code",
   "execution_count": 1,
   "metadata": {
    "tags": [
     "hide_input"
    ]
   },
   "outputs": [
    {
     "data": {
      "text/html": [
       "<table border=\"1\" class=\"dataframe\">\n",
       "  <thead>\n",
       "    <tr style=\"text-align: right;\">\n",
       "      <th>Assignments</th>\n",
       "      <th>Percentage</th>\n",
       "    </tr>\n",
       "  </thead>\n",
       "  <tbody>\n",
       "    <tr>\n",
       "      <td>Datacamp modules</td>\n",
       "      <td>5</td>\n",
       "    </tr>\n",
       "    <tr>\n",
       "      <td>Five problem sets</td>\n",
       "      <td>50</td>\n",
       "    </tr>\n",
       "    <tr>\n",
       "      <td>Final project</td>\n",
       "      <td>35</td>\n",
       "    </tr>\n",
       "    <tr>\n",
       "      <td>Team player/participation</td>\n",
       "      <td>10</td>\n",
       "    </tr>\n",
       "  </tbody>\n",
       "</table>"
      ],
      "text/plain": [
       "<IPython.core.display.HTML object>"
      ]
     },
     "execution_count": 1,
     "metadata": {},
     "output_type": "execute_result"
    }
   ],
   "source": [
    "## import modules\n",
    "import pandas as pd\n",
    "\n",
    "from IPython.display import display, HTML\n",
    "\n",
    "grade_summary = pd.DataFrame({'Assignments':\n",
    "                [\"Datacamp modules\",\n",
    "                  \"Five problem sets\",\n",
    "                  \"Final project\",\n",
    "                  \"Team player/participation\"],\n",
    "                'Percentage':\n",
    "                [5, \n",
    "                 50,\n",
    "                 35,\n",
    "                 10],\n",
    "                             }) \n",
    "\n",
    "HTML(grade_summary.to_html(index=False))"
   ]
  },
  {
   "cell_type": "markdown",
   "metadata": {},
   "source": [
    "## Details\n",
    "\n",
    "### Datacamp modules to support programming topics (5% of grade)\n",
    "\n",
    "The DataCamp modules are mainly to support your work on the problem sets and final project by giving you additional practice prior to our in-class activities. As a result, they will be graded on a \"complete\" and \"incomplete\" basis, regardless of how many points you received on the assignment itself. This means that you shouldn't get stuck partway through, since you can always ask to be shown the answer with a points deduction. Conversely, if the concepts are review, these should be very quick to complete, but if you'd prefer to skip, you can talk to me and I will reapportion the 5\\% to your second problem set.\n",
    "\n",
    "\n",
    "### Five problem sets (50% of total grade; 10-20% each)\n",
    "\n",
    "DataCamp provides a very smooth introduction to programming, in the sense that they provide you with example code that gets you ~80\\% of the way to the solution, with you needing to apply that code to reach the other ~20\\%. \n",
    "\n",
    "In contrast, the problem sets will assess your ability to apply the concepts to data that is substantially messier, and problems that are substantially more difficult, than the ones in DataCamp. More details on the problem sets will be provided the week before each is released, but here's the rough workflow:\n",
    "\n",
    "- Access the problem set and data via GitHub or Jhub\n",
    "- Work to produce the following outputs for each problem set:\n",
    "  - A raw `.ipynb` with the code for the problem set\n",
    "  - A compiled pdf that displays that code and also answers the written questions. These written questions will involve using some LaTeX syntax for equations and formatting.\n",
    "  - When applicable (e.g., part of the problem set is run in script form), a supporting `.py` file\n",
    "  \n",
    "The problem sets will be graded on both accuracy and programming style. For instance, by our second problem set, you will have learned to write functions. The problem set will be designed to test those concepts and if you revert, for instance, to writing repeated code that could be replaced with a function, points will be deducted even if that inefficient code arrives at the correct answer. \n",
    "\n",
    "Your lowest problem set grade of the five will be dropped.\n",
    "\n",
    "\n",
    "### Final project (35% of grade)\n",
    "\n",
    "You will work on a project that integrates the concepts we are covering into an applied data science project. The end product will be a final status-update presentation, a 10-page scientific report, and a complete GitHub repository. See the \"Project Components\" page for more information on these outputs.\n",
    "\n",
    "\n",
    "### Team player/participation (10% of grade)\n",
    "\n",
    "Data science is a highly collaborative activity in the real world, and you should think of your classmates as resources rather than as competition. This part of your grade will reflect:\n",
    "\n",
    "- Interacting during class, e.g. asking and answering questions\n",
    "- Participation in class coding activities in small groups\n",
    "- Contributions to your group's final project \n",
    "- Activity on Piazza to help classmates and advance class learning by asking and answering questions, editing others' questions, etc."
   ]
  }
 ],
 "metadata": {
  "celltoolbar": "Tags",
  "kernelspec": {
   "display_name": "Python 3",
   "language": "python",
   "name": "python3"
  },
  "language_info": {
   "codemirror_mode": {
    "name": "ipython",
    "version": 3
   },
   "file_extension": ".py",
   "mimetype": "text/x-python",
   "name": "python",
   "nbconvert_exporter": "python",
   "pygments_lexer": "ipython3",
   "version": "3.8.10"
  }
 },
 "nbformat": 4,
 "nbformat_minor": 4
}
