{
 "cells": [
  {
   "cell_type": "markdown",
   "metadata": {},
   "source": [
    "# Evaluation and grading\n",
    "\n",
    "## Summary and grading policy\n",
    "\n",
    "You will have four cumulative late days for assignments, that can be apportioned as you see fit between the different problem sets. Late days cannot be used for the final project or final presentation. If you run over and have not submitted the pset by the following class, I ask that you not attend class as not to see the answers. There will be a deduction of 10 percentage points for each late day after you have used your allowed late days.\n",
    "\n",
    "Grades may be curved if there are no students receiving A's on the non-curved grading scale. "
   ]
  },
  {
   "cell_type": "code",
   "execution_count": 1,
   "metadata": {
    "tags": [
     "hide_input"
    ]
   },
   "outputs": [
    {
     "data": {
      "text/html": [
       "<table border=\"1\" class=\"dataframe\">\n",
       "  <thead>\n",
       "    <tr style=\"text-align: right;\">\n",
       "      <th>Assignments</th>\n",
       "      <th>Percentage</th>\n",
       "      <th>Deadlines</th>\n",
       "    </tr>\n",
       "  </thead>\n",
       "  <tbody>\n",
       "    <tr>\n",
       "      <td>Datacamp modules</td>\n",
       "      <td>5</td>\n",
       "      <td>Throughout</td>\n",
       "    </tr>\n",
       "    <tr>\n",
       "      <td>Five problem sets</td>\n",
       "      <td>50</td>\n",
       "      <td>Throughout (see course schedule and Canvas)</td>\n",
       "    </tr>\n",
       "    <tr>\n",
       "      <td>Final project</td>\n",
       "      <td>35</td>\n",
       "      <td>Presentation: Monday March 07; Short report: Monday March 14 (both sections)</td>\n",
       "    </tr>\n",
       "    <tr>\n",
       "      <td>Team player/participation</td>\n",
       "      <td>10</td>\n",
       "      <td>Throughout</td>\n",
       "    </tr>\n",
       "  </tbody>\n",
       "</table>"
      ],
      "text/plain": [
       "<IPython.core.display.HTML object>"
      ]
     },
     "execution_count": 1,
     "metadata": {},
     "output_type": "execute_result"
    }
   ],
   "source": [
    "## import modules\n",
    "import pandas as pd\n",
    "\n",
    "from IPython.display import display, HTML\n",
    "\n",
    "grade_summary = pd.DataFrame({'Assignments':\n",
    "                [\"Datacamp modules\",\n",
    "                  \"Five problem sets\",\n",
    "                  \"Final project\",\n",
    "                  \"Team player/participation\"],\n",
    "                'Percentage':\n",
    "                [5, \n",
    "                  50,\n",
    "                  35,\n",
    "                  10],\n",
    "                'Deadlines':\n",
    "                [\"Throughout\",\n",
    "                  \"Throughout (see course schedule and Canvas)\",\n",
    "                  \"Presentation: Monday March 07; Short report: Monday March 14 (both sections)\",\n",
    "                  \"Throughout\"]}) \n",
    "\n",
    "HTML(grade_summary.to_html(index=False))"
   ]
  },
  {
   "cell_type": "markdown",
   "metadata": {},
   "source": [
    "## Details\n",
    "\n",
    "### Datacamp modules to support programming topics (5% of grade)\n",
    "\n",
    "The DataCamp modules are mainly to support your work on the problem sets and final project by giving you additional practice prior to our in-class activities. As a result, they will be graded on a \"complete\" and \"incomplete\" basis, regardless of how many points you received on the assignment itself. This means that you shouldn't get stuck partway through, since you can always ask to be shown the answer with a points deduction. Conversely, if the concepts are review, these should be very quick to complete, but if you'd prefer to skip, you can talk to me and I will reapportion the 5\\% to your second problem set.\n",
    "\n",
    "### Five problem sets (10-20% of grade, each; 50% total)\n",
    "\n",
    "DataCamp provides a very smooth introduction to programming, in the sense that they provide you with example code that gets you ~80\\% of the way to the solution, with you needing to apply that code to reach the other ~20\\%. \n",
    "\n",
    "In contrast, the problems sets will assess your ability to apply the concepts to data that is substantially messier, and problems that are substantially more difficult, than the ones in the DataCamp modules. More details on the problem sets will be provided the week before each is released,  but roughly, the workflow will be:\n",
    "\n",
    "- Accessing the problem set and data via Canvas (pset one) or GitHub and/or jhub (psets two - five)\n",
    "- Working to produce the following outputs for each problem set:\n",
    "  - A raw .ipynb (or .Rmd file) with the code for the pset\n",
    "  - A compiled pdf that displays that code, as well as the answers to the written questions. These written questions will involve using some Latex syntax for equations and formatting.\n",
    "  - When applicable (e.g., part of the pset is run in script form), a supporting .py or .R file\n",
    "  \n",
    "The problem sets will be graded on both accuracy and programming style. For instance, by our second problem set, you will have learned to write functions. The problem set will be designed to test those concepts and if you revert, for instance, to writing repeated code that could be replaced with a function, points will be deducted even if that inefficient code arrives at the correct answer. \n",
    "\n",
    "Your lowest problem set grade of the five will be dropped.\n",
    "\n",
    "### Final project (35% of grade)\n",
    "\n",
    "- I will randomly assign groups of 3-4 a few meetings in to the quarter. I've found that this is more effective than letting you choose your own groups for teaching you how to collaborate on technical projects with people who you may not always see eye to eye with!\n",
    "- I'll be releasing instructions on Canvas for two preliminary project milestones \n",
    "- Each group will work on a project that integrates the concepts we are covering into an applied data science project. The end product will be a github repository that contains:\n",
    "\n",
    "  - The raw source data you used for the project. This will include portions of the data I provide to all groups and external data sources you bring to the project.\n",
    "  - A pre-analysis plan where you pre-commit to certain analyses with the data: this will be especially important for the other group to be able to replicate your work.\n",
    "  - A README for the repository that, for each file, describes in detail:\n",
    "    - Inputs to the file: e.g., raw data; a file containing credentials needed to access an API/\n",
    "    - What the file does: describe major transformations.\n",
    "    - Output: if the file produces any outputs (e.g., a cleaned dataset; a figure or graph).\n",
    "  - A set of code files that transform that data into a form usable to answer the question you have posed in your descriptive research proposal.\n",
    "  - Final output: \n",
    "    1. A 10-minute presentation, written in Beamer (presented in class on the dates listed above).\n",
    "    2. A report written in the computer science-style conference proceedings (10 pages; will share a template; due **Monday March 14th**).\n",
    "\n",
    "\n",
    "### Team player/participation (10% of grade)\n",
    "\n",
    "Data science is a highly collaborative activity in the real world and you should think of your classmates as resources rather than as competition. This part of your grade will reflect:\n",
    "\n",
    "- Participation in class and help making the class interactive\n",
    "- Participation in coding activities in class in small groups\n",
    "- Contributions to your group's final project \n",
    "- Helping classmates on Slack: for this, we will be using a `#problemset` channel in our class Slack for you to ask questions about roadblocks you encounter with the DataCamp activities or on the problem sets. While I will be answering questions within a window of 24 hours, I encourage you to help each other and answer each other's questions. \n"
   ]
  }
 ],
 "metadata": {
  "celltoolbar": "Tags",
  "kernelspec": {
   "display_name": "Python 3",
   "language": "python",
   "name": "python3"
  },
  "language_info": {
   "codemirror_mode": {
    "name": "ipython",
    "version": 3
   },
   "file_extension": ".py",
   "mimetype": "text/x-python",
   "name": "python",
   "nbconvert_exporter": "python",
   "pygments_lexer": "ipython3",
   "version": "3.8.3"
  }
 },
 "nbformat": 4,
 "nbformat_minor": 4
}
